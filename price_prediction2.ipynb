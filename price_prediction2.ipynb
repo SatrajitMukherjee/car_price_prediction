{
  "nbformat": 4,
  "nbformat_minor": 0,
  "metadata": {
    "colab": {
      "provenance": []
    },
    "kernelspec": {
      "name": "python3",
      "display_name": "Python 3"
    },
    "language_info": {
      "name": "python"
    }
  },
  "cells": [
    {
      "cell_type": "code",
      "source": [
        "from tensorflow import keras\n",
        "model = keras.models.load_model('/content/cataract_model.keras')"
      ],
      "metadata": {
        "id": "eCDAJdlIDQOC"
      },
      "execution_count": null,
      "outputs": []
    },
    {
      "cell_type": "code",
      "source": [
        "    %%writefile app.py\n",
        "\n",
        "    import streamlit as st\n",
        "    import pandas as pd\n",
        "    import numpy as np\n",
        "    import pickle\n",
        "    import sklearn\n",
        "\n",
        "    # Load the trained model\n",
        "    # Ensure 'LinearRegressionModel.pkl' is in the same directory as this app.py file\n",
        "    try:\n",
        "        with open('/content/LinearRegressionModel.pkl', 'rb') as file:\n",
        "            pipe = pickle.load(file)\n",
        "    except FileNotFoundError:\n",
        "        st.error(\"Model file 'LinearRegressionModel.pkl' not found. Please make sure it's in the same directory.\")\n",
        "        st.stop()\n",
        "    except Exception as e:\n",
        "        st.error(f\"Error loading the model: {e}\")\n",
        "        st.stop()\n",
        "\n",
        "    # Load the cleaned car data to get unique values for the dropdowns\n",
        "    try:\n",
        "        car = pd.read_csv('/content/Cleaned_Car_data.csv')\n",
        "    except FileNotFoundError:\n",
        "        st.error(\"Data file 'Cleaned_Car_data.csv' not found. Please make sure it's in the same directory.\")\n",
        "        st.stop()\n",
        "    except Exception as e:\n",
        "        st.error(f\"Error loading the data: {e}\")\n",
        "        st.stop()\n",
        "\n",
        "    st.set_page_config(\n",
        "        page_title=\"Car Price Predictor\",\n",
        "        page_icon=\"🚗\",\n",
        "        layout=\"centered\",\n",
        "        initial_sidebar_state=\"expanded\"\n",
        "    )\n",
        "\n",
        "    # Custom CSS for a better look and feel\n",
        "    st.markdown(\"\"\"\n",
        "        <style>\n",
        "        .main-header {\n",
        "            font-size: 2.5rem;\n",
        "            font-weight: bold;\n",
        "            color: #1a237e;\n",
        "            text-align: center;\n",
        "            margin-bottom: 0.5em;\n",
        "        }\n",
        "        .stSelectbox, .stNumberInput {\n",
        "            background-color: #e8eaf6;\n",
        "            border-radius: 10px;\n",
        "            padding: 10px;\n",
        "            box-shadow: 2px 2px 5px rgba(0,0,0,0.2);\n",
        "        }\n",
        "        .stButton>button {\n",
        "            background-color: #4a148c;\n",
        "            color: white;\n",
        "            font-weight: bold;\n",
        "            border-radius: 10px;\n",
        "            padding: 12px 20px;\n",
        "            transition: all 0.3s ease-in-out;\n",
        "        }\n",
        "        .stButton>button:hover {\n",
        "            background-color: #6a1b9a;\n",
        "            box-shadow: 0 4px 8px rgba(0,0,0,0.3);\n",
        "        }\n",
        "        .prediction-box {\n",
        "            background-color: #c5cae9;\n",
        "            padding: 20px;\n",
        "            border-radius: 10px;\n",
        "            text-align: center;\n",
        "            font-size: 1.5rem;\n",
        "            font-weight: bold;\n",
        "            color: #1a237e;\n",
        "            margin-top: 2em;\n",
        "            box-shadow: 4px 4px 10px rgba(0,0,0,0.3);\n",
        "        }\n",
        "        </style>\n",
        "    \"\"\", unsafe_allow_html=True)\n",
        "\n",
        "    st.markdown('<p class=\"main-header\">Car Price Predictor</p>', unsafe_allow_html=True)\n",
        "    st.write(\"Enter the details of the car to get a predicted price.\")\n",
        "\n",
        "    # Get unique values for dropdowns from the dataframe\n",
        "    companies = sorted(car['company'].unique())\n",
        "    car_names = sorted(car['name'].unique())\n",
        "    fuel_types = car['fuel_type'].unique()\n",
        "    years = sorted(car['year'].unique(), reverse=True)\n",
        "\n",
        "    # Create the input widgets for the app\n",
        "    company = st.selectbox('Select Company', companies)\n",
        "\n",
        "    # Filter car names based on the selected company\n",
        "    filtered_cars = sorted(car[car['company'] == company]['name'].unique())\n",
        "    name = st.selectbox('Select Car Name', filtered_cars)\n",
        "\n",
        "    year = st.number_input('Year of Purchase', min_value=1995, max_value=2025, value=2010, step=1, format=\"%d\")\n",
        "    kms_driven = st.number_input('Kilometers Driven', min_value=0, value=50000, step=1000)\n",
        "    fuel_type = st.radio('Fuel Type', fuel_types)\n",
        "\n",
        "    # Create a button to trigger the prediction\n",
        "    if st.button('Predict Price'):\n",
        "        # Create a DataFrame with the user's input\n",
        "        input_data = pd.DataFrame(\n",
        "            [[name, company, year, kms_driven, fuel_type]],\n",
        "            columns=['name', 'company', 'year', 'kms_driven', 'fuel_type']\n",
        "        )\n",
        "\n",
        "        # Make the prediction\n",
        "        try:\n",
        "            prediction = pipe.predict(input_data)[0]\n",
        "            # Display the result\n",
        "            if prediction < 0:\n",
        "                st.markdown(f'<div class=\"prediction-box\">Prediction not possible for these values.</div>', unsafe_allow_html=True)\n",
        "            else:\n",
        "                st.markdown(f'<div class=\"prediction-box\">The predicted price is: ₹{np.round(prediction, 2):,.2f}</div>', unsafe_allow_html=True)\n",
        "        except Exception as e:\n",
        "            st.error(f\"Prediction failed: {e}\")\n",
        "\n"
      ],
      "metadata": {
        "colab": {
          "base_uri": "https://localhost:8080/"
        },
        "id": "-Yxl9aI6CWvL",
        "outputId": "c5ce15a7-3aaf-4cd9-b000-a570ad80b807"
      },
      "execution_count": 13,
      "outputs": [
        {
          "output_type": "stream",
          "name": "stdout",
          "text": [
            "Overwriting app.py\n"
          ]
        }
      ]
    },
    {
      "cell_type": "code",
      "source": [
        "!pip install pyngrok"
      ],
      "metadata": {
        "colab": {
          "base_uri": "https://localhost:8080/"
        },
        "id": "X8AYrVPtFvO6",
        "outputId": "e1e7f078-1a7a-4ade-86c5-77de4b42fe9a"
      },
      "execution_count": 8,
      "outputs": [
        {
          "output_type": "stream",
          "name": "stdout",
          "text": [
            "Collecting pyngrok\n",
            "  Downloading pyngrok-7.3.0-py3-none-any.whl.metadata (8.1 kB)\n",
            "Requirement already satisfied: PyYAML>=5.1 in /usr/local/lib/python3.12/dist-packages (from pyngrok) (6.0.2)\n",
            "Downloading pyngrok-7.3.0-py3-none-any.whl (25 kB)\n",
            "Installing collected packages: pyngrok\n",
            "Successfully installed pyngrok-7.3.0\n"
          ]
        }
      ]
    },
    {
      "cell_type": "code",
      "source": [
        "from pyngrok import ngrok\n",
        "\n",
        "# Set authentication token if you haven't already done so\n",
        "ngrok.set_auth_token(\"32NbhrsP5OTYNJ70dEKbKvnWCYn_2KS3aMvvSXjCWatkDvcdm\")\n",
        "\n",
        "# Start Streamlit server on a specific port\n",
        "!nohup streamlit run app.py --server.port 5011 &\n",
        "\n",
        "# Start ngrok tunnel to expose the Streamlit server\n",
        "ngrok_tunnel = ngrok.connect(addr='5011', proto='http', bind_tls=True)\n",
        "\n",
        "# Print the URL of the ngrok tunnel\n",
        "print(' * Tunnel URL:', ngrok_tunnel.public_url)"
      ],
      "metadata": {
        "colab": {
          "base_uri": "https://localhost:8080/"
        },
        "id": "LIh-CZcGFzhC",
        "outputId": "5d8111c9-de2c-4541-ada5-40c37d57b5ff"
      },
      "execution_count": 17,
      "outputs": [
        {
          "output_type": "stream",
          "name": "stdout",
          "text": [
            "nohup: appending output to 'nohup.out'\n",
            " * Tunnel URL: https://9e0773eea632.ngrok-free.app\n"
          ]
        }
      ]
    }
  ]
}